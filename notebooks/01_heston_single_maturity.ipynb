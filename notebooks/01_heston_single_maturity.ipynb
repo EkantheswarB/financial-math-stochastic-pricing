{
  "nbformat": 4,
  "nbformat_minor": 0,
  "metadata": {
    "colab": {
      "provenance": []
    },
    "kernelspec": {
      "name": "python3",
      "display_name": "Python 3"
    },
    "language_info": {
      "name": "python"
    }
  },
  "cells": [
    {
      "cell_type": "code",
      "execution_count": null,
      "metadata": {
        "id": "Wsaog36JiKZI"
      },
      "outputs": [],
      "source": [
        "# 0) Setup (clone or mount your repo)\n",
        "from google.colab import drive; drive.mount('/content/drive')\n",
        "\n"
      ]
    },
    {
      "cell_type": "code",
      "source": [
        "# 1) Imports\n",
        "import numpy as np, pandas as pd\n",
        "from src.data_loader import load_single_maturity_slice\n",
        "from src.calibration import fit_heston_iv, model_iv_for_strikes\n",
        "from src.plot_smile import plot_iv_smile\n"
      ],
      "metadata": {
        "id": "CIMVqUbAiSE2"
      },
      "execution_count": null,
      "outputs": []
    },
    {
      "cell_type": "code",
      "source": [
        "# 2) Load your Phase I cleaned chain DataFrame (reuse your pipeline)\n",
        "# df_chain = pd.read_csv('...')  # or build via yfinance as in project 1"
      ],
      "metadata": {
        "collapsed": true,
        "id": "wBhI2BzMiWsQ"
      },
      "execution_count": null,
      "outputs": []
    },
    {
      "cell_type": "code",
      "source": [
        "# 3) Slice one maturity\n",
        "sl, expiry = load_single_maturity_slice(df_chain)"
      ],
      "metadata": {
        "id": "XFK36coXigRT"
      },
      "execution_count": null,
      "outputs": []
    },
    {
      "cell_type": "code",
      "source": [
        "# 4) Inputs\n",
        "S0 = current_spx_level   # e.g., float from your dataset\n",
        "r  = 0.00                # approx short rate (or from risk-free curve)\n",
        "q  = 0.015               # dividend yield estimate (or implied via F = S*e^{(r-q)T})\n",
        "T  = sl['dte'].iloc[0] / 365.0\n",
        "strikes = sl['strike'].values\n",
        "iv_mkt = sl['implied_vol'].values  # or compute from mid prices if not present"
      ],
      "metadata": {
        "id": "8cOMEjhZijQk"
      },
      "execution_count": null,
      "outputs": []
    },
    {
      "cell_type": "code",
      "source": [
        "# 5) Calibrate\n",
        "x0 = (1.0, 0.04, 0.5, -0.5, 0.04)\n",
        "params, cost, sol = fit_heston_iv(S0, r, q, T, strikes, iv_mkt, x0=x0)\n",
        "print(\"Calibrated (kappa, theta, sigma, rho, v0):\", params)"
      ],
      "metadata": {
        "id": "agwH7AwMilZD"
      },
      "execution_count": null,
      "outputs": []
    },
    {
      "cell_type": "code",
      "source": [
        "# 6) Model IVs & Plot\n",
        "iv_model = model_iv_for_strikes(S0, r, q, T, strikes, params)\n",
        "fig = plot_iv_smile(strikes, iv_mkt, iv_model, title=f\"Smile @ {expiry} (Heston Calibrated)\")\n",
        "# Optionally save into paper/figures/\n",
        "# fig.savefig(\"/content/financial-math-stochastic-pricing/paper/figures/heston_smile.png\", dpi=300, bbox_inches=\"tight\")\n"
      ],
      "metadata": {
        "id": "mYQibex9inRQ"
      },
      "execution_count": null,
      "outputs": []
    }
  ]
}